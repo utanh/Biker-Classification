{
 "cells": [
  {
   "cell_type": "markdown",
   "metadata": {},
   "source": [
    "# Import and load model"
   ]
  },
  {
   "cell_type": "code",
   "execution_count": 1,
   "metadata": {},
   "outputs": [
    {
     "name": "stderr",
     "output_type": "stream",
     "text": [
      "c:\\Users\\root\\miniconda3\\envs\\yolov5\\lib\\site-packages\\tqdm\\auto.py:22: TqdmWarning: IProgress not found. Please update jupyter and ipywidgets. See https://ipywidgets.readthedocs.io/en/stable/user_install.html\n",
      "  from .autonotebook import tqdm as notebook_tqdm\n"
     ]
    }
   ],
   "source": [
    "import torch\n",
    "import cv2\n"
   ]
  },
  {
   "cell_type": "code",
   "execution_count": 2,
   "metadata": {},
   "outputs": [
    {
     "name": "stderr",
     "output_type": "stream",
     "text": [
      "YOLOv5  v6.1-243-g7cef03d Python-3.9.12 torch-1.8.2+cu111 CUDA:0 (NVIDIA GeForce MX130, 2048MiB)\n",
      "\n",
      "Fusing layers... \n",
      "Model summary: 213 layers, 7012822 parameters, 0 gradients, 15.8 GFLOPs\n",
      "Adding AutoShape... \n"
     ]
    }
   ],
   "source": [
    "# Model\n",
    "# model = torch.hub.load('ultralytics/yolov5', 'yolov5s')  # or yolov5n - yolov5x6, custom\n",
    "model_path = \"best.pt\"\n",
    "model = torch.hub.load( \"./yolov5\", \"custom\", model_path, source=\"local\")\n",
    "\n",
    "# Set thresold \n",
    "model.conf = 0.7"
   ]
  },
  {
   "cell_type": "markdown",
   "metadata": {},
   "source": [
    "# Run detect"
   ]
  },
  {
   "cell_type": "code",
   "execution_count": 3,
   "metadata": {},
   "outputs": [],
   "source": [
    "# # Images\n",
    "# img = 'test_img/img_UIT_120.jpg'  # or file, Path, PIL, OpenCV, numpy, list\n",
    "# \n",
    "# # Inference\n",
    "# results = model(img)\n",
    "# detection = results.xyxy[0].cpu().numpy()\n",
    "# \n",
    "# # Results\n",
    "# detection.shape\n"
   ]
  },
  {
   "cell_type": "code",
   "execution_count": 4,
   "metadata": {},
   "outputs": [],
   "source": [
    "def draw_boxes( img, detection ):\n",
    "\tif len( detection ) == 0: return img\n",
    "\n",
    "\tde = [box.astype(int) for box in detection]\n",
    "\tcolors = [(0,0,255), (0,255,0), (255,255,0)]\n",
    "\th,w,_ = img.shape\n",
    "\n",
    "\tthick = h//700 + 2\n",
    "\tfor box in de:\n",
    "\t\timg = cv2.rectangle( img, (box[0],box[1]), (box[2],box[3]), colors[box[5]] , thick )\n",
    "\treturn img\n",
    "def get_biker_count( img, model ):\n",
    "\t# Inference\n",
    "\tresults = model(img)\n",
    "\tdetection = results.xyxy[0].cpu().numpy()\n",
    "\n",
    "\tcount = detection.shape[0]\n",
    "\n",
    "\treturn count, draw_boxes(img, detection)"
   ]
  },
  {
   "cell_type": "code",
   "execution_count": 5,
   "metadata": {},
   "outputs": [],
   "source": [
    "def run_on_video( source ):\n",
    "\tcap = cv2.VideoCapture(source)\n",
    "\twhile 1:\n",
    "\t\tret, frame = cap.read()\n",
    "\n",
    "\t\tcount, boxed_frame = get_biker_count(frame, model)\n",
    "\n",
    "  \n",
    "\t\t# print biker count on video\n",
    "\t\t# font\n",
    "\t\tfont = cv2.FONT_HERSHEY_SIMPLEX\n",
    "\t\t# org\n",
    "\t\torg = (50, 50)\n",
    "\t\t# fontScale\n",
    "\t\tfontScale = 1\n",
    "\t\t# Blue color in BGR\n",
    "\t\tcolor = (0, 0, 255)\n",
    "\t\t# Line thickness of 2 px\n",
    "\t\tthickness = 2\n",
    "\t\t# Using cv2.putText() method\n",
    "\t\tframe = cv2.putText(boxed_frame, \"count: \"+str(count), org, font, \n",
    "\t\t                   fontScale, color, thickness, cv2.LINE_AA) \n",
    "\n",
    "\t\tcv2.imshow(\"ww\", frame)\n",
    "\n",
    "\t\tif cv2.waitKey(1) == ord(\"q\"):\n",
    "\t\t\tbreak\n",
    "\tcv2.destroyAllWindows()\n",
    "\tcap.release()"
   ]
  },
  {
   "cell_type": "code",
   "execution_count": 8,
   "metadata": {},
   "outputs": [],
   "source": [
    "video_path = 'camera_video.mp4'\n",
    "run_on_video(video_path)"
   ]
  },
  {
   "cell_type": "markdown",
   "metadata": {},
   "source": [
    "# Youtube"
   ]
  },
  {
   "cell_type": "code",
   "execution_count": 7,
   "metadata": {},
   "outputs": [],
   "source": [
    "# import pafy\n",
    "# url = \"https://youtu.be/_WmwPsKnevM\"\n",
    "# video = pafy.new( url )\n",
    "# best = video.getbest( preftype=\"mp4\" )\n",
    "# source = best.url\n",
    "# \n",
    "# run_on_video(source)"
   ]
  }
 ],
 "metadata": {
  "interpreter": {
   "hash": "d04d53e52a5056cb4b949b2c3eb12dfa3e966757c27a3ef08ce1cb7ca0082656"
  },
  "kernelspec": {
   "display_name": "Python 3.9.0 ('yolov5')",
   "language": "python",
   "name": "python3"
  },
  "language_info": {
   "codemirror_mode": {
    "name": "ipython",
    "version": 3
   },
   "file_extension": ".py",
   "mimetype": "text/x-python",
   "name": "python",
   "nbconvert_exporter": "python",
   "pygments_lexer": "ipython3",
   "version": "3.9.12"
  },
  "orig_nbformat": 4
 },
 "nbformat": 4,
 "nbformat_minor": 2
}
